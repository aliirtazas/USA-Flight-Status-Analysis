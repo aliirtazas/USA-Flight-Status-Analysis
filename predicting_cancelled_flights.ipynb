{
 "cells": [
  {
   "cell_type": "code",
   "execution_count": 1,
   "id": "3e02833e",
   "metadata": {},
   "outputs": [],
   "source": [
    "import pandas as pd"
   ]
  },
  {
   "cell_type": "code",
   "execution_count": 131,
   "id": "99e95b28",
   "metadata": {},
   "outputs": [],
   "source": [
    "import pandas as pd\n",
    "import numpy as np\n",
    "import matplotlib.pyplot as plt\n",
    "import seaborn as sns\n",
    "from glob import glob\n",
    "import calmap\n",
    "from plotly_calplot import calplot\n",
    "from pathlib import Path\n",
    "\n",
    "pd.set_option(\"display.max_columns\", 500)\n",
    "plt.style.use(\"seaborn-colorblind\")\n",
    "pal = sns.color_palette()"
   ]
  },
  {
   "cell_type": "markdown",
   "id": "b386f7db",
   "metadata": {},
   "source": [
    "# Loading Data"
   ]
  },
  {
   "cell_type": "code",
   "execution_count": 151,
   "id": "1fadf6a9",
   "metadata": {},
   "outputs": [],
   "source": [
    "df = pd.read_parquet(\"final_flight_status.parquet\",engine = \"pyarrow\",\n",
    "                     columns = ['FlightDate','Airline',\n",
    "                                 \"Cancelled\",\"Diverted\",\"CRSDepTime\",\"OriginStateName\",\n",
    "                                 \"DestStateName\",\"CRSArrTime\",\"Distance\"])"
   ]
  },
  {
   "cell_type": "code",
   "execution_count": 152,
   "id": "ca82d442",
   "metadata": {},
   "outputs": [],
   "source": [
    "df = df.sample(5000000)"
   ]
  },
  {
   "cell_type": "code",
   "execution_count": 153,
   "id": "6a45bddb",
   "metadata": {},
   "outputs": [
    {
     "data": {
      "text/plain": [
       "(5000000, 9)"
      ]
     },
     "execution_count": 153,
     "metadata": {},
     "output_type": "execute_result"
    }
   ],
   "source": [
    "df.shape"
   ]
  },
  {
   "cell_type": "code",
   "execution_count": 154,
   "id": "f832689c",
   "metadata": {},
   "outputs": [],
   "source": [
    "# df_top = (\n",
    "#     df[\"Airline\"]\n",
    "#     .value_counts()\n",
    "#     .reset_index()\n",
    "#     .query(\"Airline > 3_000_000\")[\"index\"]\n",
    "#     .values.tolist()\n",
    "# )"
   ]
  },
  {
   "cell_type": "code",
   "execution_count": 155,
   "id": "f9f00876",
   "metadata": {},
   "outputs": [],
   "source": [
    "# df_top"
   ]
  },
  {
   "cell_type": "code",
   "execution_count": 156,
   "id": "05e509ea",
   "metadata": {},
   "outputs": [],
   "source": [
    "# df = df.loc[df[\"Airline\"].isin(df_top)].reset_index(drop=True).copy()"
   ]
  },
  {
   "cell_type": "code",
   "execution_count": 157,
   "id": "d5738ac2",
   "metadata": {},
   "outputs": [
    {
     "name": "stdout",
     "output_type": "stream",
     "text": [
      "<class 'pandas.core.frame.DataFrame'>\n",
      "Int64Index: 5000000 entries, 27551807 to 18001969\n",
      "Data columns (total 9 columns):\n",
      " #   Column           Dtype         \n",
      "---  ------           -----         \n",
      " 0   FlightDate       datetime64[ns]\n",
      " 1   Airline          object        \n",
      " 2   Cancelled        bool          \n",
      " 3   Diverted         bool          \n",
      " 4   CRSDepTime       int64         \n",
      " 5   OriginStateName  object        \n",
      " 6   DestStateName    object        \n",
      " 7   CRSArrTime       int64         \n",
      " 8   Distance         float64       \n",
      "dtypes: bool(2), datetime64[ns](1), float64(1), int64(2), object(3)\n",
      "memory usage: 314.7+ MB\n"
     ]
    }
   ],
   "source": [
    "df.info()"
   ]
  },
  {
   "cell_type": "code",
   "execution_count": 158,
   "id": "0e29e078",
   "metadata": {},
   "outputs": [
    {
     "data": {
      "text/plain": [
       "Index(['FlightDate', 'Airline', 'Cancelled', 'Diverted', 'CRSDepTime',\n",
       "       'OriginStateName', 'DestStateName', 'CRSArrTime', 'Distance'],\n",
       "      dtype='object')"
      ]
     },
     "execution_count": 158,
     "metadata": {},
     "output_type": "execute_result"
    }
   ],
   "source": [
    "df.columns"
   ]
  },
  {
   "cell_type": "markdown",
   "id": "e3986fa5",
   "metadata": {},
   "source": [
    "# Feature Engineering"
   ]
  },
  {
   "cell_type": "code",
   "execution_count": 159,
   "id": "8df96641",
   "metadata": {},
   "outputs": [],
   "source": [
    "# df = df[['FlightDate','Airline','Flight_Number_Marketing_Airline',\n",
    "#          \"Origin\",\"Dest\",\"Cancelled\",\"Diverted\",\"CRSDepTime\",\"DepTime\",\"DepDelayMinutes\",\n",
    "#          \"OriginAirportID\",\"OriginCityName\",\"OriginStateName\",\"DestAirportID\",\n",
    "#          \"DestCityName\",\"DestStateName\",\"TaxiOut\",\"TaxiIn\",\n",
    "#          \"CRSArrTime\",\"ArrTime\",\"ArrDelayMinutes\"]]"
   ]
  },
  {
   "cell_type": "code",
   "execution_count": 160,
   "id": "4e7a707c",
   "metadata": {},
   "outputs": [],
   "source": [
    "cat_cols = [\"Airline\", \"OriginStateName\", \"DestStateName\"]\n",
    "for c in cat_cols:\n",
    "    df[c] = df[c].astype(\"category\")"
   ]
  },
  {
   "cell_type": "code",
   "execution_count": 161,
   "id": "c7850d83",
   "metadata": {},
   "outputs": [],
   "source": [
    "df[\"Year\"] = df[\"FlightDate\"].dt.year\n",
    "df['Month'] = df['FlightDate'].dt.month\n",
    "df['day_of_week'] = df['FlightDate'].dt.dayofweek\n",
    "df['day'] =  df['FlightDate'].dt.day"
   ]
  },
  {
   "cell_type": "code",
   "execution_count": 162,
   "id": "70c03277",
   "metadata": {},
   "outputs": [
    {
     "data": {
      "text/plain": [
       "Index(['FlightDate', 'Airline', 'Cancelled', 'Diverted', 'CRSDepTime',\n",
       "       'OriginStateName', 'DestStateName', 'CRSArrTime', 'Distance', 'Year',\n",
       "       'Month', 'day_of_week', 'day'],\n",
       "      dtype='object')"
      ]
     },
     "execution_count": 162,
     "metadata": {},
     "output_type": "execute_result"
    }
   ],
   "source": [
    "df.columns"
   ]
  },
  {
   "cell_type": "code",
   "execution_count": 163,
   "id": "19a0711b",
   "metadata": {},
   "outputs": [],
   "source": [
    "#One hot encoding"
   ]
  },
  {
   "cell_type": "code",
   "execution_count": 164,
   "id": "b24c5e48",
   "metadata": {},
   "outputs": [],
   "source": [
    "y = df['Cancelled']\n",
    "\n",
    "df = df[['Airline', 'Diverted', 'CRSDepTime',\n",
    "       'OriginStateName', 'DestStateName', 'CRSArrTime', 'CRSArrTime', 'Distance',\n",
    "       'Year', 'Month', 'day_of_week', 'day']]"
   ]
  },
  {
   "cell_type": "code",
   "execution_count": 165,
   "id": "3913a7e1",
   "metadata": {},
   "outputs": [
    {
     "data": {
      "text/plain": [
       "(5000000,)"
      ]
     },
     "execution_count": 165,
     "metadata": {},
     "output_type": "execute_result"
    }
   ],
   "source": [
    "y.shape"
   ]
  },
  {
   "cell_type": "code",
   "execution_count": 166,
   "id": "7bd8e2d7",
   "metadata": {},
   "outputs": [
    {
     "data": {
      "text/plain": [
       "(5000000, 12)"
      ]
     },
     "execution_count": 166,
     "metadata": {},
     "output_type": "execute_result"
    }
   ],
   "source": [
    "df.shape"
   ]
  },
  {
   "cell_type": "code",
   "execution_count": 167,
   "id": "6e34df2f",
   "metadata": {},
   "outputs": [],
   "source": [
    "from pandas import get_dummies as one_hot_encode\n",
    "\n",
    "if \"Airline\" in df.columns:\n",
    "    df = one_hot_encode(df, columns=[\"Airline\"])"
   ]
  },
  {
   "cell_type": "code",
   "execution_count": 168,
   "id": "5512bbc0",
   "metadata": {},
   "outputs": [],
   "source": [
    "if \"OriginStateName\" in df.columns:\n",
    "    df = one_hot_encode(df, columns=[\"OriginStateName\"])"
   ]
  },
  {
   "cell_type": "code",
   "execution_count": 169,
   "id": "e5cd64da",
   "metadata": {},
   "outputs": [],
   "source": [
    "if \"DestStateName\" in df.columns:\n",
    "    df = one_hot_encode(df, columns=[\"DestStateName\"])"
   ]
  },
  {
   "cell_type": "code",
   "execution_count": 171,
   "id": "24e05196",
   "metadata": {},
   "outputs": [
    {
     "data": {
      "text/plain": [
       "Diverted                       0\n",
       "CRSDepTime                     0\n",
       "CRSArrTime                     0\n",
       "CRSArrTime                     0\n",
       "Distance                       0\n",
       "                              ..\n",
       "DestStateName_Virginia         0\n",
       "DestStateName_Washington       0\n",
       "DestStateName_West Virginia    0\n",
       "DestStateName_Wisconsin        0\n",
       "DestStateName_Wyoming          0\n",
       "Length: 143, dtype: int64"
      ]
     },
     "execution_count": 171,
     "metadata": {},
     "output_type": "execute_result"
    }
   ],
   "source": [
    "df.isnull().sum()"
   ]
  },
  {
   "cell_type": "code",
   "execution_count": 118,
   "id": "2dd7a5e4",
   "metadata": {},
   "outputs": [],
   "source": [
    "# df = df.fillna(-1)"
   ]
  },
  {
   "cell_type": "code",
   "execution_count": 172,
   "id": "0eb6a001",
   "metadata": {},
   "outputs": [
    {
     "data": {
      "text/plain": [
       "False    4866489\n",
       "True      133511\n",
       "Name: Cancelled, dtype: int64"
      ]
     },
     "execution_count": 172,
     "metadata": {},
     "output_type": "execute_result"
    }
   ],
   "source": [
    "y[df.index].value_counts()"
   ]
  },
  {
   "cell_type": "code",
   "execution_count": 173,
   "id": "9b3c87be",
   "metadata": {},
   "outputs": [
    {
     "data": {
      "text/plain": [
       "False    4866489\n",
       "True      133511\n",
       "Name: Cancelled, dtype: int64"
      ]
     },
     "execution_count": 173,
     "metadata": {},
     "output_type": "execute_result"
    }
   ],
   "source": [
    "y.value_counts()"
   ]
  },
  {
   "cell_type": "markdown",
   "id": "1ae6c2a6",
   "metadata": {},
   "source": [
    "# Scaling Data"
   ]
  },
  {
   "cell_type": "code",
   "execution_count": 174,
   "id": "1ddbbc80",
   "metadata": {},
   "outputs": [],
   "source": [
    "df = (df - df.mean(axis=0)) / df.std(axis=0)"
   ]
  },
  {
   "cell_type": "markdown",
   "id": "8ac16d6b",
   "metadata": {},
   "source": [
    "# Train Test Split"
   ]
  },
  {
   "cell_type": "code",
   "execution_count": 175,
   "id": "cf604ddf",
   "metadata": {},
   "outputs": [
    {
     "name": "stdout",
     "output_type": "stream",
     "text": [
      "TRAIN: (3750000, 143) (3750000,)\n",
      "TEST: (1250000, 143) (1250000,)\n"
     ]
    }
   ],
   "source": [
    "from sklearn.model_selection import train_test_split\n",
    "\n",
    "x_train, x_test, y_train, y_test = train_test_split(df, y, random_state=99)\n",
    "print(\"TRAIN:\", x_train.shape, y_train.shape)\n",
    "print(\"TEST:\", x_test.shape, y_test.shape)"
   ]
  },
  {
   "cell_type": "markdown",
   "id": "c6f9f40d",
   "metadata": {},
   "source": [
    "# Model"
   ]
  },
  {
   "cell_type": "code",
   "execution_count": 176,
   "id": "f713077d",
   "metadata": {},
   "outputs": [
    {
     "data": {
      "text/plain": [
       "LogisticRegression(random_state=99)"
      ]
     },
     "execution_count": 176,
     "metadata": {},
     "output_type": "execute_result"
    }
   ],
   "source": [
    "from sklearn.linear_model import LogisticRegression\n",
    "\n",
    "model = LogisticRegression(random_state=99)\n",
    "model.fit(x_train, y_train)"
   ]
  },
  {
   "cell_type": "code",
   "execution_count": 177,
   "id": "2a3a6f06",
   "metadata": {},
   "outputs": [
    {
     "data": {
      "text/plain": [
       "DestStateName_New Jersey         0.103027\n",
       "OriginStateName_New Jersey       0.099529\n",
       "Airline_Allegiant Air            0.094022\n",
       "CRSDepTime                       0.090792\n",
       "Year                             0.087934\n",
       "                                   ...   \n",
       "Airline_United Air Lines Inc.   -0.100776\n",
       "Airline_Delta Air Lines Inc.    -0.113950\n",
       "Distance                        -0.128781\n",
       "Diverted                        -0.425462\n",
       "Month                           -0.465068\n",
       "Length: 143, dtype: float64"
      ]
     },
     "execution_count": 177,
     "metadata": {},
     "output_type": "execute_result"
    }
   ],
   "source": [
    "from pandas import Series\n",
    "\n",
    "coefs = Series(model.coef_[0], index=x_train.columns)\n",
    "coefs.sort_values(ascending=False)"
   ]
  },
  {
   "cell_type": "code",
   "execution_count": 178,
   "id": "2177a222",
   "metadata": {},
   "outputs": [],
   "source": [
    "y_pred = model.predict(x_test)"
   ]
  },
  {
   "cell_type": "markdown",
   "id": "b79dc64d",
   "metadata": {},
   "source": [
    "# Score"
   ]
  },
  {
   "cell_type": "code",
   "execution_count": 179,
   "id": "583e796c",
   "metadata": {},
   "outputs": [
    {
     "name": "stderr",
     "output_type": "stream",
     "text": [
      "D:\\anaconda\\lib\\site-packages\\sklearn\\metrics\\_classification.py:1318: UndefinedMetricWarning: Precision and F-score are ill-defined and being set to 0.0 in labels with no predicted samples. Use `zero_division` parameter to control this behavior.\n",
      "  _warn_prf(average, modifier, msg_start, len(result))\n",
      "D:\\anaconda\\lib\\site-packages\\sklearn\\metrics\\_classification.py:1318: UndefinedMetricWarning: Precision and F-score are ill-defined and being set to 0.0 in labels with no predicted samples. Use `zero_division` parameter to control this behavior.\n",
      "  _warn_prf(average, modifier, msg_start, len(result))\n"
     ]
    },
    {
     "name": "stdout",
     "output_type": "stream",
     "text": [
      "              precision    recall  f1-score   support\n",
      "\n",
      "       False       0.97      1.00      0.99   1216682\n",
      "        True       0.00      0.00      0.00     33318\n",
      "\n",
      "    accuracy                           0.97   1250000\n",
      "   macro avg       0.49      0.50      0.49   1250000\n",
      "weighted avg       0.95      0.97      0.96   1250000\n",
      "\n"
     ]
    },
    {
     "name": "stderr",
     "output_type": "stream",
     "text": [
      "D:\\anaconda\\lib\\site-packages\\sklearn\\metrics\\_classification.py:1318: UndefinedMetricWarning: Precision and F-score are ill-defined and being set to 0.0 in labels with no predicted samples. Use `zero_division` parameter to control this behavior.\n",
      "  _warn_prf(average, modifier, msg_start, len(result))\n"
     ]
    }
   ],
   "source": [
    "from sklearn.metrics import classification_report, roc_auc_score, confusion_matrix\n",
    "\n",
    "print(classification_report(y_test, y_pred))"
   ]
  },
  {
   "cell_type": "code",
   "execution_count": 180,
   "id": "d889fe82",
   "metadata": {},
   "outputs": [
    {
     "data": {
      "text/plain": [
       "0.5"
      ]
     },
     "execution_count": 180,
     "metadata": {},
     "output_type": "execute_result"
    }
   ],
   "source": [
    "roc_auc_score(y_test, y_pred)"
   ]
  },
  {
   "cell_type": "code",
   "execution_count": 181,
   "id": "6e2765af",
   "metadata": {},
   "outputs": [
    {
     "data": {
      "text/plain": [
       "0.680465195985942"
      ]
     },
     "execution_count": 181,
     "metadata": {},
     "output_type": "execute_result"
    }
   ],
   "source": [
    "y_pred_proba = model.predict_proba(x_test)\n",
    "roc_auc_score(y_test, y_pred_proba[:,1])"
   ]
  },
  {
   "cell_type": "code",
   "execution_count": 182,
   "id": "a120faa9",
   "metadata": {},
   "outputs": [
    {
     "data": {
      "text/plain": [
       "array([[1216682,       0],\n",
       "       [  33318,       0]], dtype=int64)"
      ]
     },
     "execution_count": 182,
     "metadata": {},
     "output_type": "execute_result"
    }
   ],
   "source": [
    "cmat = confusion_matrix(y_test, y_pred, labels=model.classes_)\n",
    "cmat"
   ]
  },
  {
   "cell_type": "code",
   "execution_count": 183,
   "id": "76e4940a",
   "metadata": {},
   "outputs": [
    {
     "data": {
      "text/html": [
       "<div>\n",
       "<style scoped>\n",
       "    .dataframe tbody tr th:only-of-type {\n",
       "        vertical-align: middle;\n",
       "    }\n",
       "\n",
       "    .dataframe tbody tr th {\n",
       "        vertical-align: top;\n",
       "    }\n",
       "\n",
       "    .dataframe thead th {\n",
       "        text-align: right;\n",
       "    }\n",
       "</style>\n",
       "<table border=\"1\" class=\"dataframe\">\n",
       "  <thead>\n",
       "    <tr style=\"text-align: right;\">\n",
       "      <th></th>\n",
       "      <th>False</th>\n",
       "      <th>True</th>\n",
       "    </tr>\n",
       "  </thead>\n",
       "  <tbody>\n",
       "    <tr>\n",
       "      <th>False</th>\n",
       "      <td>1216682</td>\n",
       "      <td>0</td>\n",
       "    </tr>\n",
       "    <tr>\n",
       "      <th>True</th>\n",
       "      <td>33318</td>\n",
       "      <td>0</td>\n",
       "    </tr>\n",
       "  </tbody>\n",
       "</table>\n",
       "</div>"
      ],
      "text/plain": [
       "         False  True\n",
       "False  1216682     0\n",
       "True     33318     0"
      ]
     },
     "execution_count": 183,
     "metadata": {},
     "output_type": "execute_result"
    }
   ],
   "source": [
    "from pandas import DataFrame\n",
    "\n",
    "confusion_df = DataFrame(cmat, index=model.classes_, columns=model.classes_)\n",
    "confusion_df"
   ]
  },
  {
   "cell_type": "code",
   "execution_count": null,
   "id": "cd24e902",
   "metadata": {},
   "outputs": [],
   "source": []
  }
 ],
 "metadata": {
  "kernelspec": {
   "display_name": "Python 3 (ipykernel)",
   "language": "python",
   "name": "python3"
  },
  "language_info": {
   "codemirror_mode": {
    "name": "ipython",
    "version": 3
   },
   "file_extension": ".py",
   "mimetype": "text/x-python",
   "name": "python",
   "nbconvert_exporter": "python",
   "pygments_lexer": "ipython3",
   "version": "3.9.12"
  }
 },
 "nbformat": 4,
 "nbformat_minor": 5
}
